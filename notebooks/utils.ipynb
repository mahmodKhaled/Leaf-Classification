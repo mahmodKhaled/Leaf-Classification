{
 "cells": [
  {
   "cell_type": "code",
   "execution_count": 20,
   "metadata": {},
   "outputs": [],
   "source": [
    "import matplotlib.pyplot as plt\n",
    "import os\n",
    "import pandas as pd"
   ]
  },
  {
   "cell_type": "code",
   "execution_count": 21,
   "metadata": {},
   "outputs": [],
   "source": [
    "def create_image_paths(images_ids):\n",
    "    images_paths = []\n",
    "    img = plt.imread('C:/Users/mahmo/Desktop/Leaf-Classification/input/images/1.jpg')\n",
    "    source_folder = 'C:/Users/mahmo/Desktop/Leaf-Classification/input/images/'\n",
    "    for id in images_ids:\n",
    "        img_path = source_folder + str(id) + '.jpg'\n",
    "        images_paths.append(img_path)\n",
    "    return images_paths"
   ]
  },
  {
   "cell_type": "code",
   "execution_count": 22,
   "metadata": {},
   "outputs": [],
   "source": [
    "def draw_some_images(images_paths):\n",
    "    fig , axis = plt.subplots(2,4)\n",
    "    fig.set_figheight(10)\n",
    "    fig.set_figwidth(20)\n",
    "    # load images\n",
    "    images = []\n",
    "    for path in images_paths:\n",
    "        images.append(plt.imread(path))\n",
    "    i , j = 0 , 0\n",
    "    for img in images:\n",
    "        axis[i,j].imshow(img,cmap='gray')\n",
    "        j = j + 1\n",
    "        if j == 4:\n",
    "            i = i + 1\n",
    "            j = 0"
   ]
  },
  {
   "cell_type": "code",
   "execution_count": 23,
   "metadata": {},
   "outputs": [],
   "source": [
    "def read_data(file_name):\n",
    "    # read data from csv file in input folder\n",
    "    cur_dir = os.getcwd()\n",
    "    file_path = 'C:/Users/mahmo/Desktop/Leaf-Classification/input/' + file_name\n",
    "    data = pd.read_csv(os.path.join(cur_dir,file_path))\n",
    "    return data"
   ]
  }
 ],
 "metadata": {
  "kernelspec": {
   "display_name": "base",
   "language": "python",
   "name": "python3"
  },
  "language_info": {
   "codemirror_mode": {
    "name": "ipython",
    "version": 3
   },
   "file_extension": ".py",
   "mimetype": "text/x-python",
   "name": "python",
   "nbconvert_exporter": "python",
   "pygments_lexer": "ipython3",
   "version": "3.8.16"
  },
  "orig_nbformat": 4
 },
 "nbformat": 4,
 "nbformat_minor": 2
}
